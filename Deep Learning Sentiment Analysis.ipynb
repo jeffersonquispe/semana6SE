{
 "cells": [
  {
   "cell_type": "code",
   "execution_count": 16,
   "metadata": {},
   "outputs": [],
   "source": [
    "import numpy as np\n",
    "import tensorflow as tf"
   ]
  },
  {
   "cell_type": "code",
   "execution_count": 17,
   "metadata": {},
   "outputs": [],
   "source": [
    "with open('reviews.txt', 'r') as f:\n",
    "    reviews = f.read()"
   ]
  },
  {
   "cell_type": "code",
   "execution_count": 18,
   "metadata": {},
   "outputs": [
    {
     "data": {
      "text/plain": [
       "'bromwell high is a cartoon comedy . it ran at the same time as some other programs about school life  such as  teachers  . my   years in the teaching profession lead me to believe that bromwell high  s satire is much closer to reality than is  teachers  . the scramble to survive financially  the insightful students who can see right through their pathetic teachers  pomp  the pettiness of the whole situation  all remind me of the schools i knew and their students . when i saw the episode in which a student repeatedly tried to burn down the school  i immediately recalled . . . . . . . . . at . . . . . . . . . . high . a classic line inspector i  m here to sack one of your teachers . student welcome to bromwell high . i expect that many adults of my age think that bromwell high is far fetched . what a pity that it isn  t   \\nstory of a man who has unnatural feelings for a pig . starts out with a opening scene that is a terrific example of absurd comedy . a formal orchestra audience is turned into an insane  violent mob by the crazy chantings of it  s singers . unfortunately it stays absurd the whole time with no general narrative eventually making it just too off putting . even those from the era should be turned off . the cryptic dialogue would make shakespeare seem easy to a third grader . on a technical level it  s better than you might think with some good cinematography by future great vilmos zsigmond . future stars sally kirkland and frederic forrest can be seen briefly .  \\nhomelessness  or houselessness as george carlin stated  has been an issue for years but never a plan to help those on the street that were once considered human who did everything from going to school  work  or vote for the matter . most people think of the homeless as just a lost cause while worrying about things such as racism  the war on iraq  pressuring kids to succeed  technology  the elections  inflation  or worrying if they  ll be next to end up on the streets .  br    br   but what if y'"
      ]
     },
     "execution_count": 18,
     "metadata": {},
     "output_type": "execute_result"
    }
   ],
   "source": [
    "reviews[:2000]"
   ]
  },
  {
   "cell_type": "code",
   "execution_count": 19,
   "metadata": {},
   "outputs": [],
   "source": [
    "with open('labels.txt', 'r') as f:\n",
    "    labels_org = f.read()"
   ]
  },
  {
   "cell_type": "code",
   "execution_count": 20,
   "metadata": {},
   "outputs": [],
   "source": [
    "from string import punctuation\n",
    "all_text = ''.join([c for c in reviews if c not in punctuation])\n",
    "reviews = all_text.split('\\n')\n",
    "\n",
    "all_text = ' '.join(reviews)\n",
    "words = all_text.split()\n"
   ]
  },
  {
   "cell_type": "code",
   "execution_count": 21,
   "metadata": {},
   "outputs": [
    {
     "data": {
      "text/plain": [
       "25001"
      ]
     },
     "execution_count": 21,
     "metadata": {},
     "output_type": "execute_result"
    }
   ],
   "source": [
    "len(reviews)"
   ]
  },
  {
   "cell_type": "code",
   "execution_count": 22,
   "metadata": {},
   "outputs": [],
   "source": [
    "# # Create your dictionary that maps vocab words to integers here\n",
    "# vocab = set(words)\n",
    "# vocab_to_int = {w: i for i, w in enumerate(vocab, 1)}\n",
    "# print(len(vocab_to_int))\n",
    "\n",
    "# # Convert the reviews to integers, same shape as reviews list, but with integers\n",
    "# reviews_ints = []\n",
    "# for r in reviews:\n",
    "#     ri = [vocab_to_int.get(w) for w in r if vocab_to_int.get(w) is not None]\n",
    "#     reviews_ints.append(ri)\n",
    "# reviews_ints[:10]\n",
    "\n",
    "from collections import Counter\n",
    "counts = Counter(words)\n",
    "vocab = sorted(counts, key=counts.get, reverse=True)\n",
    "vocab_to_int = {word: ii for ii, word in enumerate(vocab, 1)}\n",
    "\n",
    "reviews_ints = []\n",
    "for each in reviews:\n",
    "    reviews_ints.append([vocab_to_int[word] for word in each.split()])"
   ]
  },
  {
   "cell_type": "code",
   "execution_count": 23,
   "metadata": {},
   "outputs": [
    {
     "data": {
      "text/plain": [
       "25001"
      ]
     },
     "execution_count": 23,
     "metadata": {},
     "output_type": "execute_result"
    }
   ],
   "source": [
    "len(reviews_ints)"
   ]
  },
  {
   "cell_type": "code",
   "execution_count": 24,
   "metadata": {},
   "outputs": [
    {
     "name": "stdout",
     "output_type": "stream",
     "text": [
      "25000\n"
     ]
    }
   ],
   "source": [
    "# Convert labels to 1s and 0s for 'positive' and 'negative'\n",
    "# print(labels_org)\n",
    "labels = np.array([1 if l == \"positive\" else 0 for l in labels_org.split()])\n",
    "# print(labels)\n",
    "print(len(labels))"
   ]
  },
  {
   "cell_type": "code",
   "execution_count": 25,
   "metadata": {},
   "outputs": [
    {
     "name": "stdout",
     "output_type": "stream",
     "text": [
      "Zero-length reviews: 1\n",
      "Maximum review length: 2514\n"
     ]
    }
   ],
   "source": [
    "from collections import Counter\n",
    "review_lens = Counter([len(x) for x in reviews_ints])\n",
    "print(\"Zero-length reviews: {}\".format(review_lens[0]))\n",
    "print(\"Maximum review length: {}\".format(max(review_lens)))"
   ]
  },
  {
   "cell_type": "code",
   "execution_count": 26,
   "metadata": {},
   "outputs": [
    {
     "data": {
      "text/plain": [
       "1025"
      ]
     },
     "execution_count": 26,
     "metadata": {},
     "output_type": "execute_result"
    }
   ],
   "source": [
    "len(review_lens)"
   ]
  },
  {
   "cell_type": "code",
   "execution_count": 27,
   "metadata": {},
   "outputs": [],
   "source": [
    "# Filter out that review with 0 length\n",
    "reviews_ints = [r[0:200] for r in reviews_ints if len(r) > 0]"
   ]
  },
  {
   "cell_type": "code",
   "execution_count": 28,
   "metadata": {},
   "outputs": [
    {
     "data": {
      "text/plain": [
       "25000"
      ]
     },
     "execution_count": 28,
     "metadata": {},
     "output_type": "execute_result"
    }
   ],
   "source": [
    "len(reviews_ints)"
   ]
  },
  {
   "cell_type": "code",
   "execution_count": 29,
   "metadata": {},
   "outputs": [
    {
     "name": "stdout",
     "output_type": "stream",
     "text": [
      "Zero-length reviews: 0\n",
      "Maximum review length: 200\n"
     ]
    }
   ],
   "source": [
    "from collections import Counter\n",
    "review_lens = Counter([len(x) for x in reviews_ints])\n",
    "print(\"Zero-length reviews: {}\".format(review_lens[0]))\n",
    "print(\"Maximum review length: {}\".format(max(review_lens)))"
   ]
  },
  {
   "cell_type": "code",
   "execution_count": 30,
   "metadata": {},
   "outputs": [
    {
     "data": {
      "text/plain": [
       "array([[    0,     0,     0,     0,     0,     0,     0,     0,     0,\n",
       "            0,     0,     0,     0,     0,     0,     0,     0,     0,\n",
       "            0,     0,     0,     0,     0,     0,     0,     0,     0,\n",
       "            0,     0,     0,     0,     0,     0,     0,     0,     0,\n",
       "            0,     0,     0,     0,     0,     0,     0,     0,     0,\n",
       "            0,     0,     0,     0,     0,     0,     0,     0,     0,\n",
       "            0,     0,     0,     0,     0,     0, 21025,   308,     6,\n",
       "            3,  1050,   207,     8,  2138,    32,     1,   171,    57,\n",
       "           15,    49,    81,  5785,    44,   382,   110,   140,    15,\n",
       "         5194,    60,   154,     9,     1,  4975,  5852,   475,    71,\n",
       "            5,   260,    12, 21025,   308,    13,  1978,     6,    74,\n",
       "         2395],\n",
       "       [    0,     0,     0,     0,     0,     0,     0,     0,     0,\n",
       "            0,     0,     0,     0,     0,     0,     0,     0,     0,\n",
       "            0,     0,     0,     0,     0,     0,     0,     0,     0,\n",
       "            0,     0,     0,     0,     0,     0,     0,     0,     0,\n",
       "            0,     0,     0,     0,     0,     0,     0,     0,     0,\n",
       "            0,     0,     0,     0,     0,     0,     0,     0,     0,\n",
       "            0,     0,     0,     0,     0,     0,     0,     0,     0,\n",
       "            0,     0,     0,     0,     0,     0,     0,     0,     0,\n",
       "            0,     0,     0,     0,     0,     0,     0,     0,     0,\n",
       "            0,     0,     0,     0,     0,    63,     4,     3,   125,\n",
       "           36,    47,  7472,  1395,    16,     3,  4181,   505,    45,\n",
       "           17],\n",
       "       [22382,    42, 46418,    15,   706, 17139,  3389,    47,    77,\n",
       "           35,  1819,    16,   154,    19,   114,     3,  1305,     5,\n",
       "          336,   147,    22,     1,   857,    12,    70,   281,  1168,\n",
       "          399,    36,   120,   283,    38,   169,     5,   382,   158,\n",
       "           42,  2269,    16,     1,   541,    90,    78,   102,     4,\n",
       "            1,  3244,    15,    43,     3,   407,  1068,   136,  8055,\n",
       "           44,   182,   140,    15,  3043,     1,   320,    22,  4818,\n",
       "        26224,   346,     5,  3090,  2092,     1, 18839, 17939,    42,\n",
       "         8055,    46,    33,   236,    29,   370,     5,   130,    56,\n",
       "           22,     1,  1928,     7,     7,    19,    48,    46,    21,\n",
       "           70,   344,     3,  2099,     5,   408,    22,     1,  1928,\n",
       "           16],\n",
       "       [ 4505,   505,    15,     3,  3342,   162,  8312,  1652,     6,\n",
       "         4819,    56,    17,  4504,  5616,   140, 11725,     5,   996,\n",
       "         4919,  2933,  4462,   566,  1201,    36,     6,  1518,    96,\n",
       "            3,   744,     4, 26225,    13,     5,    27,  3461,     9,\n",
       "        10625,     4,     8,   111,  3013,     5,     1,  1027,    15,\n",
       "            3,  4390,    82,    22,  2049,     6,  4462,   538,  2764,\n",
       "         7073, 37443,    41,   463,     1,  8312, 46419,   302,   123,\n",
       "           15,  4221,    19,  1667,   922,     1,  1652,     6,  6129,\n",
       "        19871,    34,     1,   980,  1751, 22383,   646, 24104,    27,\n",
       "          106, 11726,    13, 14045, 15097, 17940,  2457,   466, 21027,\n",
       "           36,  3266,     1,  6365,  1020,    45,    17,  2695,  2499,\n",
       "           33],\n",
       "       [    0,     0,     0,     0,     0,     0,     0,     0,     0,\n",
       "            0,     0,     0,     0,     0,     0,     0,     0,     0,\n",
       "            0,     0,     0,     0,     0,     0,     0,     0,     0,\n",
       "            0,     0,     0,     0,     0,     0,     0,     0,     0,\n",
       "            0,     0,     0,     0,     0,     0,     0,     0,     0,\n",
       "            0,     0,     0,     0,     0,   520,   119,   113,    34,\n",
       "        16372,  1816,  3737,   117,   885, 21030,   721,    10,    28,\n",
       "          124,   108,     2,   115,   137,     9,  1623,  7691,    26,\n",
       "          330,     5,   589,     1,  6130,    22,   386,     6,     3,\n",
       "          349,    15,    50,    15,   231,     9,  7473, 11399,     1,\n",
       "          191,    22,  8966,     6,    82,   880,   101,   111,  3584,\n",
       "            4],\n",
       "       [    0,     0,     0,     0,     0,     0,     0,     0,     0,\n",
       "            0,     0,     0,     0,     0,     0,     0,     0,     0,\n",
       "            0,     0,     0,     0,     0,     0,     0,     0,     0,\n",
       "            0,     0,     0,     0,     0,     0,     0,     0,     0,\n",
       "            0,     0,     0,     0,     0,     0,     0,     0,     0,\n",
       "            0,     0,     0,     0,     0,     0,     0,     0,     0,\n",
       "           11,    20,  3637,   141,    10,   422,    23,   272,    60,\n",
       "         4355,    22,    32,    84,  3286,    22,     1,   172,     4,\n",
       "            1,   952,   507,    11,  4977,  5361,     5,   574,     4,\n",
       "         1155,    54,    53,  5304,     1,   261,    17,    41,   952,\n",
       "          125,    59,     1,   711,   137,   379,   626,    15,   111,\n",
       "         1509],\n",
       "       [    0,     0,     0,     0,     0,     0,     0,     0,     0,\n",
       "            0,     0,     0,     0,     0,     0,     0,     0,     0,\n",
       "            0,     0,     0,     0,     0,     0,     0,     0,     0,\n",
       "            0,     0,     0,     0,     0,     0,     0,     0,     0,\n",
       "            0,     0,     0,     0,     0,     0,     0,     0,     0,\n",
       "            0,     0,     0,     0,     0,     0,     0,     0,     0,\n",
       "            0,     0,     0,     0,     0,     0,     0,     0,     0,\n",
       "            0,     0,     0,     0,     0,     0,     0,     0,     0,\n",
       "            0,     0,     0,     0,    11,     6,   692,     1,    90,\n",
       "         2156,    20, 11728,     1,  2818,  5195,   249,    92,  3006,\n",
       "            8,   126,    24,   200,     3,   802,   634,     4, 22382,\n",
       "         1001],\n",
       "       [    0,     0,     0,     0,     0,     0,     0,     0,     0,\n",
       "            0,     0,     0,     0,     0,     0,     0,     0,     0,\n",
       "            0,     0,     0,     0,     0,     0,     0,     0,     0,\n",
       "            0,     0,     0,     0,     0,     0,     0,     0,     0,\n",
       "            0,     0,     0,     0,     0,     0,     0,     0,     0,\n",
       "            0,     0,   786,   295,    10,   122,    11,     6,   419,\n",
       "            5,    29,    35,   482,    20,    19,  1281,    33,   142,\n",
       "           28,  2657,    45,  1840,    32,     1,  2778,    37,    78,\n",
       "           97,  2436,    67,  3950,    45,     2,    24,   105,   256,\n",
       "            1,   134,  1571,     2, 12399,   451,    14,   319,    11,\n",
       "           63,     6,    98,  1321,     5,   105,     1,  3767,     4,\n",
       "            3],\n",
       "       [    0,     0,     0,     0,     0,     0,     0,     0,     0,\n",
       "            0,     0,     0,     0,     0,     0,     0,     0,     0,\n",
       "            0,     0,     0,     0,     0,     0,     0,     0,     0,\n",
       "            0,     0,     0,     0,     0,     0,     0,     0,     0,\n",
       "            0,     0,     0,     0,     0,     0,     0,     0,     0,\n",
       "            0,     0,     0,     0,     0,     0,     0,     0,     0,\n",
       "            0,     0,     0,     0,     0,     0,     0,     0,     0,\n",
       "            0,     0,     0,     0,     0,     0,     0,     0,     0,\n",
       "            0,     0,     0,     0,     0,     0,     0,    11,     6,\n",
       "           24,     1,   779,  3687,  2818,    20,     8,    14,    74,\n",
       "          325,  2730,    73,    90,     4,    27,    99,     2,   165,\n",
       "           68],\n",
       "       [   54,    10,    14,   116,    60,   798,   552,    71,   364,\n",
       "            5,     1,   730,     5,    66,  8057,     8,    14,    30,\n",
       "            4,   109,    99,    10,   293,    17,    60,   798,    19,\n",
       "           11,    14,     1,    64,    30,    69,  2500,    45,     4,\n",
       "          234,    93,    10,    68,   114,   108,  8057,   363,    43,\n",
       "         1009,     2,    10,    97,    28,  1431,    45,     1,   357,\n",
       "            4,    60,   110,   205,     8,    48,     3,  1929, 10880,\n",
       "            2,  2124,   354,   412,     4,    13,  6609,     2,  2974,\n",
       "         5148,  2125,  1366,     6,    30,     4,    60,   502,   876,\n",
       "           19,  8057,     6,    34,   227,     1,   247,   412,     4,\n",
       "          582,     4,    27,   599,     9,     1, 13586,   396,     4,\n",
       "        14047]])"
      ]
     },
     "execution_count": 30,
     "metadata": {},
     "output_type": "execute_result"
    }
   ],
   "source": [
    "seq_len = 200\n",
    "features = np.zeros((len(reviews_ints), seq_len), dtype=int)\n",
    "# print(features[:10,:100])\n",
    "for i, row in enumerate(reviews_ints):\n",
    "    features[i, -len(row):] = np.array(row)[:seq_len]\n",
    "features[:10,:100]\n",
    "    # features = []\n",
    "# for r in reviews_ints:\n",
    "#     features.append(np.pad(r, (0, 200 - len(r)), 'constant').tolist())\n",
    "\n",
    "# interesting = []\n",
    "# for i, r in enumerate(reviews_ints):\n",
    "#     if len(r) < 200:\n",
    "#         interesting.append(i)\n",
    "\n",
    "        \n",
    "# features = np.array([np.pad(r, (len(r), 200-len(r)), 'constant').tolist() for r in reviews_ints])\n"
   ]
  },
  {
   "cell_type": "code",
   "execution_count": 31,
   "metadata": {},
   "outputs": [
    {
     "data": {
      "text/plain": [
       "(25000, 200)"
      ]
     },
     "execution_count": 31,
     "metadata": {},
     "output_type": "execute_result"
    }
   ],
   "source": [
    "features.shape"
   ]
  },
  {
   "cell_type": "code",
   "execution_count": 17,
   "metadata": {},
   "outputs": [
    {
     "name": "stdout",
     "output_type": "stream",
     "text": [
      "20\n"
     ]
    }
   ],
   "source": [
    "print(len(reviews_ints[41]))"
   ]
  },
  {
   "cell_type": "code",
   "execution_count": 32,
   "metadata": {},
   "outputs": [
    {
     "name": "stdout",
     "output_type": "stream",
     "text": [
      "[name: \"/device:CPU:0\"\n",
      "device_type: \"CPU\"\n",
      "memory_limit: 268435456\n",
      "locality {\n",
      "}\n",
      "incarnation: 16808949925216568313\n",
      ", name: \"/device:XLA_CPU:0\"\n",
      "device_type: \"XLA_CPU\"\n",
      "memory_limit: 17179869184\n",
      "locality {\n",
      "}\n",
      "incarnation: 514442338703950407\n",
      "physical_device_desc: \"device: XLA_CPU device\"\n",
      ", name: \"/device:XLA_GPU:0\"\n",
      "device_type: \"XLA_GPU\"\n",
      "memory_limit: 17179869184\n",
      "locality {\n",
      "}\n",
      "incarnation: 8731839152759907934\n",
      "physical_device_desc: \"device: XLA_GPU device\"\n",
      ", name: \"/device:GPU:0\"\n",
      "device_type: \"GPU\"\n",
      "memory_limit: 989200384\n",
      "locality {\n",
      "  bus_id: 1\n",
      "  links {\n",
      "  }\n",
      "}\n",
      "incarnation: 6487222737907903684\n",
      "physical_device_desc: \"device: 0, name: GeForce GTX 750 Ti, pci bus id: 0000:01:00.0, compute capability: 5.0\"\n",
      "]\n"
     ]
    }
   ],
   "source": [
    "from tensorflow.python.client import device_lib\n",
    "print(device_lib.list_local_devices())"
   ]
  },
  {
   "cell_type": "markdown",
   "metadata": {},
   "source": [
    "### train"
   ]
  },
  {
   "cell_type": "code",
   "execution_count": 36,
   "metadata": {},
   "outputs": [
    {
     "name": "stdout",
     "output_type": "stream",
     "text": [
      "\t\t\tFeature Shapes:\n",
      "Train set: \t\t(20000, 200) \n",
      "Validation set: \t(2500, 200) \n",
      "Test set: \t\t(2500, 200)\n",
      "label set: \t\t(20000,) \n",
      "Validation label set: \t(2500,) \n",
      "Test label set: \t\t(2500,)\n"
     ]
    }
   ],
   "source": [
    "\n",
    "\n",
    "split_frac = 0.8\n",
    "\n",
    "split_index = int(split_frac * len(features))\n",
    "\n",
    "train_x, val_x = features[:split_index], features[split_index:] \n",
    "train_y, val_y = labels[:split_index], labels[split_index:]\n",
    "\n",
    "split_frac = 0.5\n",
    "split_index = int(split_frac * len(val_x))\n",
    "\n",
    "val_x, test_x = val_x[:split_index], val_x[split_index:]\n",
    "val_y, test_y = val_y[:split_index], val_y[split_index:]\n",
    "\n",
    "print(\"\\t\\t\\tFeature Shapes:\")\n",
    "print(\"Train set: \\t\\t{}\".format(train_x.shape), \n",
    "      \"\\nValidation set: \\t{}\".format(val_x.shape),\n",
    "      \"\\nTest set: \\t\\t{}\".format(test_x.shape))\n",
    "print(\"label set: \\t\\t{}\".format(train_y.shape), \n",
    "      \"\\nValidation label set: \\t{}\".format(val_y.shape),\n",
    "      \"\\nTest label set: \\t\\t{}\".format(test_y.shape))\n",
    "\n"
   ]
  },
  {
   "cell_type": "code",
   "execution_count": 34,
   "metadata": {},
   "outputs": [
    {
     "data": {
      "text/plain": [
       "2500"
      ]
     },
     "execution_count": 34,
     "metadata": {},
     "output_type": "execute_result"
    }
   ],
   "source": [
    "split_index "
   ]
  },
  {
   "cell_type": "code",
   "execution_count": 38,
   "metadata": {},
   "outputs": [
    {
     "name": "stdout",
     "output_type": "stream",
     "text": [
      "['/device:CPU:0', '/device:XLA_CPU:0', '/device:XLA_GPU:0', '/device:GPU:0']\n"
     ]
    }
   ],
   "source": [
    "from tensorflow.python.client import device_lib\n",
    "\n",
    "def get_available_devices():\n",
    "    local_device_protos = device_lib.list_local_devices()\n",
    "    return [x.name for x in local_device_protos]\n",
    "\n",
    "print(get_available_devices())"
   ]
  },
  {
   "cell_type": "code",
   "execution_count": null,
   "metadata": {},
   "outputs": [],
   "source": []
  },
  {
   "cell_type": "code",
   "execution_count": 35,
   "metadata": {},
   "outputs": [
    {
     "data": {
      "text/plain": [
       "(250, 200)"
      ]
     },
     "execution_count": 35,
     "metadata": {},
     "output_type": "execute_result"
    }
   ],
   "source": [
    "#------features--------\n",
    "train_x=train_x[:2000]\n",
    "train_x.shape\n",
    "val_x=val_x[:250]\n",
    "val_x.shape\n",
    "test_x=test_x[:250]\n",
    "test_x.shape\n",
    "#-------labels---------\n",
    "train_y=train_x[:2000]\n",
    "train_y.shape\n",
    "val_y=val_x[:250]\n",
    "val_y.shape\n",
    "test_y=test_x[:250]\n",
    "test_y.shape"
   ]
  },
  {
   "cell_type": "code",
   "execution_count": 40,
   "metadata": {},
   "outputs": [],
   "source": [
    "lstm_size = 256\n",
    "lstm_layers = 2\n",
    "batch_size = 100\n",
    "learning_rate = 0.01"
   ]
  },
  {
   "cell_type": "code",
   "execution_count": 41,
   "metadata": {},
   "outputs": [],
   "source": [
    "n_words = len(vocab_to_int) + 1 # Add 1 for 0 added to vocab\n",
    "\n",
    "# Create the graph object\n",
    "tf.reset_default_graph()\n",
    "with tf.name_scope('inputs'):\n",
    "    inputs_ = tf.placeholder(tf.int32, [None, None], name=\"inputs\")\n",
    "    labels_ = tf.placeholder(tf.int32, [None, None], name=\"labels\")\n",
    "    keep_prob = tf.placeholder(tf.float32, name=\"keep_prob\")"
   ]
  },
  {
   "cell_type": "code",
   "execution_count": 42,
   "metadata": {},
   "outputs": [],
   "source": [
    "\n",
    "# Size of the embedding vectors (number of units in the embedding layer)\n",
    "embed_size = 300 \n",
    "\n",
    "with tf.name_scope(\"Embeddings\"):\n",
    "    embedding = tf.Variable(tf.random_uniform((n_words, embed_size), -1, 1))\n",
    "    embed = tf.nn.embedding_lookup(embedding, inputs_)\n",
    "\n"
   ]
  },
  {
   "cell_type": "code",
   "execution_count": 43,
   "metadata": {},
   "outputs": [
    {
     "data": {
      "text/plain": [
       "<tf.Tensor 'strided_slice:0' shape=(300,) dtype=float32>"
      ]
     },
     "execution_count": 43,
     "metadata": {},
     "output_type": "execute_result"
    }
   ],
   "source": [
    "embedding[0]"
   ]
  },
  {
   "cell_type": "code",
   "execution_count": 44,
   "metadata": {},
   "outputs": [],
   "source": [
    "def lstm_cell():\n",
    "    lstm =tf.contrib.rnn.BasicLSTMCell(lstm_size, reuse=tf.get_variable_scope().reuse)\n",
    "    return tf.contrib.rnn.DropoutWrapper(lstm,output_keep_prob=keep_prob)\n",
    "\n"
   ]
  },
  {
   "cell_type": "code",
   "execution_count": 45,
   "metadata": {},
   "outputs": [
    {
     "name": "stdout",
     "output_type": "stream",
     "text": [
      "WARNING:tensorflow:From <ipython-input-44-ce89901483bc>:2: BasicLSTMCell.__init__ (from tensorflow.python.ops.rnn_cell_impl) is deprecated and will be removed in a future version.\n",
      "Instructions for updating:\n",
      "This class is deprecated, please use tf.nn.rnn_cell.LSTMCell, which supports all the feature this cell currently has. Please replace the existing code with tf.nn.rnn_cell.LSTMCell(name='basic_lstm_cell').\n"
     ]
    }
   ],
   "source": [
    "with tf.name_scope(\"RNN_layers\"):\n",
    "    # Stack up multiple LSTM layers, for deep learning\n",
    "    cell = tf.contrib.rnn.MultiRNNCell([lstm_cell() for _ in range(lstm_layers)])\n",
    "    \n",
    "    # Getting an initial state of all zeros\n",
    "    initial_state = cell.zero_state(batch_size, tf.float32)"
   ]
  },
  {
   "cell_type": "code",
   "execution_count": 46,
   "metadata": {},
   "outputs": [],
   "source": [
    "with tf.name_scope(\"RNN_forward\"):\n",
    "    outputs, final_state = tf.nn.dynamic_rnn(cell, embed, initial_state=initial_state)"
   ]
  },
  {
   "cell_type": "code",
   "execution_count": 47,
   "metadata": {},
   "outputs": [
    {
     "name": "stdout",
     "output_type": "stream",
     "text": [
      "CPU times: user 396 ms, sys: 7.24 ms, total: 404 ms\n",
      "Wall time: 515 ms\n"
     ]
    }
   ],
   "source": [
    "%%time\n",
    "with tf.name_scope('predictions'):\n",
    "    predictions = tf.contrib.layers.fully_connected(outputs[:, -1], 1, activation_fn=tf.sigmoid)\n",
    "    tf.summary.histogram('predictions', predictions)\n",
    "with tf.name_scope('cost'):\n",
    "    cost = tf.losses.mean_squared_error(labels_, predictions)\n",
    "    tf.summary.scalar('cost', cost)\n",
    "\n",
    "with tf.name_scope('train'):\n",
    "    optimizer = tf.train.AdamOptimizer(learning_rate).minimize(cost)\n",
    "\n",
    "merged = tf.summary.merge_all()"
   ]
  },
  {
   "cell_type": "code",
   "execution_count": 48,
   "metadata": {},
   "outputs": [
    {
     "data": {
      "text/plain": [
       "<tf.Tensor 'Merge/MergeSummary:0' shape=() dtype=string>"
      ]
     },
     "execution_count": 48,
     "metadata": {},
     "output_type": "execute_result"
    }
   ],
   "source": [
    "merged"
   ]
  },
  {
   "cell_type": "markdown",
   "metadata": {},
   "source": [
    "validation accuracy"
   ]
  },
  {
   "cell_type": "code",
   "execution_count": 49,
   "metadata": {},
   "outputs": [],
   "source": [
    "with tf.name_scope('validation'):\n",
    "    correct_pred = tf.equal(tf.cast(tf.round(predictions), tf.int32), labels_)\n",
    "    accuracy = tf.reduce_mean(tf.cast(correct_pred, tf.float32))"
   ]
  },
  {
   "cell_type": "markdown",
   "metadata": {},
   "source": [
    "batching"
   ]
  },
  {
   "cell_type": "code",
   "execution_count": 50,
   "metadata": {},
   "outputs": [],
   "source": [
    "def get_batches(x, y, batch_size=100):\n",
    "    n_batches = len(x)//batch_size\n",
    "    x, y = x[:n_batches*batch_size], y[:n_batches*batch_size]\n",
    "    for ii in range(0, len(x), batch_size):\n",
    "        yield x[ii:ii+batch_size], y[ii:ii+batch_size]"
   ]
  },
  {
   "cell_type": "code",
   "execution_count": null,
   "metadata": {},
   "outputs": [],
   "source": []
  },
  {
   "cell_type": "markdown",
   "metadata": {},
   "source": [
    "training"
   ]
  },
  {
   "cell_type": "code",
   "execution_count": 51,
   "metadata": {},
   "outputs": [
    {
     "name": "stdout",
     "output_type": "stream",
     "text": [
      "Epoch: 0/10 Iteration: 5 Train loss: 0.346\n",
      "Epoch: 0/10 Iteration: 10 Train loss: 0.248\n",
      "Epoch: 0/10 Iteration: 15 Train loss: 0.247\n",
      "Epoch: 0/10 Iteration: 20 Train loss: 0.257\n",
      "Epoch: 0/10 Iteration: 25 Train loss: 0.236\n",
      "Val acc: 0.587\n",
      "Epoch: 0/10 Iteration: 30 Train loss: 0.281\n",
      "Epoch: 0/10 Iteration: 35 Train loss: 0.271\n",
      "Epoch: 0/10 Iteration: 40 Train loss: 0.255\n",
      "Epoch: 0/10 Iteration: 45 Train loss: 0.255\n",
      "Epoch: 0/10 Iteration: 50 Train loss: 0.262\n",
      "Val acc: 0.527\n",
      "Epoch: 0/10 Iteration: 55 Train loss: 0.247\n",
      "Epoch: 0/10 Iteration: 60 Train loss: 0.243\n",
      "Epoch: 0/10 Iteration: 65 Train loss: 0.241\n",
      "Epoch: 0/10 Iteration: 70 Train loss: 0.318\n",
      "Epoch: 0/10 Iteration: 75 Train loss: 0.276\n",
      "Val acc: 0.496\n",
      "Epoch: 0/10 Iteration: 80 Train loss: 0.264\n",
      "Epoch: 0/10 Iteration: 85 Train loss: 0.258\n",
      "Epoch: 0/10 Iteration: 90 Train loss: 0.274\n",
      "Epoch: 0/10 Iteration: 95 Train loss: 0.267\n",
      "Epoch: 0/10 Iteration: 100 Train loss: 0.272\n",
      "Val acc: 0.496\n",
      "Epoch: 0/10 Iteration: 105 Train loss: 0.251\n",
      "Epoch: 0/10 Iteration: 110 Train loss: 0.240\n",
      "Epoch: 0/10 Iteration: 115 Train loss: 0.250\n",
      "Epoch: 0/10 Iteration: 120 Train loss: 0.251\n",
      "Epoch: 0/10 Iteration: 125 Train loss: 0.266\n",
      "Val acc: 0.497\n",
      "Epoch: 0/10 Iteration: 130 Train loss: 0.261\n",
      "Epoch: 0/10 Iteration: 135 Train loss: 0.256\n",
      "Epoch: 0/10 Iteration: 140 Train loss: 0.246\n",
      "Epoch: 0/10 Iteration: 145 Train loss: 0.268\n",
      "Epoch: 0/10 Iteration: 150 Train loss: 0.250\n",
      "Val acc: 0.496\n",
      "Epoch: 0/10 Iteration: 155 Train loss: 0.253\n",
      "Epoch: 0/10 Iteration: 160 Train loss: 0.258\n",
      "Epoch: 0/10 Iteration: 165 Train loss: 0.272\n",
      "Epoch: 0/10 Iteration: 170 Train loss: 0.257\n",
      "Epoch: 0/10 Iteration: 175 Train loss: 0.260\n",
      "Val acc: 0.497\n",
      "Epoch: 0/10 Iteration: 180 Train loss: 0.260\n",
      "Epoch: 0/10 Iteration: 185 Train loss: 0.262\n",
      "Epoch: 0/10 Iteration: 190 Train loss: 0.276\n",
      "Epoch: 0/10 Iteration: 195 Train loss: 0.257\n",
      "Epoch: 0/10 Iteration: 200 Train loss: 0.255\n",
      "Val acc: 0.498\n",
      "Epoch: 1/10 Iteration: 205 Train loss: 0.247\n",
      "Epoch: 1/10 Iteration: 210 Train loss: 0.254\n",
      "Epoch: 1/10 Iteration: 215 Train loss: 0.259\n",
      "Epoch: 1/10 Iteration: 220 Train loss: 0.251\n",
      "Epoch: 1/10 Iteration: 225 Train loss: 0.236\n",
      "Val acc: 0.497\n",
      "Epoch: 1/10 Iteration: 230 Train loss: 0.255\n",
      "Epoch: 1/10 Iteration: 235 Train loss: 0.263\n",
      "Epoch: 1/10 Iteration: 240 Train loss: 0.255\n",
      "Epoch: 1/10 Iteration: 245 Train loss: 0.256\n",
      "Epoch: 1/10 Iteration: 250 Train loss: 0.253\n",
      "Val acc: 0.504\n",
      "Epoch: 1/10 Iteration: 255 Train loss: 0.261\n",
      "Epoch: 1/10 Iteration: 260 Train loss: 0.255\n",
      "Epoch: 1/10 Iteration: 265 Train loss: 0.251\n",
      "Epoch: 1/10 Iteration: 270 Train loss: 0.254\n",
      "Epoch: 1/10 Iteration: 275 Train loss: 0.250\n",
      "Val acc: 0.549\n",
      "Epoch: 1/10 Iteration: 280 Train loss: 0.273\n",
      "Epoch: 1/10 Iteration: 285 Train loss: 0.261\n",
      "Epoch: 1/10 Iteration: 290 Train loss: 0.262\n",
      "Epoch: 1/10 Iteration: 295 Train loss: 0.255\n",
      "Epoch: 1/10 Iteration: 300 Train loss: 0.247\n",
      "Val acc: 0.523\n",
      "Epoch: 1/10 Iteration: 305 Train loss: 0.264\n",
      "Epoch: 1/10 Iteration: 310 Train loss: 0.258\n",
      "Epoch: 1/10 Iteration: 315 Train loss: 0.233\n",
      "Epoch: 1/10 Iteration: 320 Train loss: 0.243\n",
      "Epoch: 1/10 Iteration: 325 Train loss: 0.241\n",
      "Val acc: 0.544\n",
      "Epoch: 1/10 Iteration: 330 Train loss: 0.254\n",
      "Epoch: 1/10 Iteration: 335 Train loss: 0.255\n",
      "Epoch: 1/10 Iteration: 340 Train loss: 0.261\n",
      "Epoch: 1/10 Iteration: 345 Train loss: 0.256\n",
      "Epoch: 1/10 Iteration: 350 Train loss: 0.260\n",
      "Val acc: 0.509\n",
      "Epoch: 1/10 Iteration: 355 Train loss: 0.247\n",
      "Epoch: 1/10 Iteration: 360 Train loss: 0.249\n",
      "Epoch: 1/10 Iteration: 365 Train loss: 0.253\n",
      "Epoch: 1/10 Iteration: 370 Train loss: 0.236\n",
      "Epoch: 1/10 Iteration: 375 Train loss: 0.244\n",
      "Val acc: 0.560\n",
      "Epoch: 1/10 Iteration: 380 Train loss: 0.259\n",
      "Epoch: 1/10 Iteration: 385 Train loss: 0.281\n",
      "Epoch: 1/10 Iteration: 390 Train loss: 0.246\n",
      "Epoch: 1/10 Iteration: 395 Train loss: 0.258\n",
      "Epoch: 1/10 Iteration: 400 Train loss: 0.264\n",
      "Val acc: 0.555\n",
      "Epoch: 2/10 Iteration: 405 Train loss: 0.270\n",
      "Epoch: 2/10 Iteration: 410 Train loss: 0.214\n",
      "Epoch: 2/10 Iteration: 415 Train loss: 0.252\n",
      "Epoch: 2/10 Iteration: 420 Train loss: 0.246\n",
      "Epoch: 2/10 Iteration: 425 Train loss: 0.228\n",
      "Val acc: 0.584\n",
      "Epoch: 2/10 Iteration: 430 Train loss: 0.243\n",
      "Epoch: 2/10 Iteration: 435 Train loss: 0.231\n",
      "Epoch: 2/10 Iteration: 440 Train loss: 0.260\n",
      "Epoch: 2/10 Iteration: 445 Train loss: 0.218\n",
      "Epoch: 2/10 Iteration: 450 Train loss: 0.251\n",
      "Val acc: 0.642\n",
      "Epoch: 2/10 Iteration: 455 Train loss: 0.246\n",
      "Epoch: 2/10 Iteration: 460 Train loss: 0.265\n",
      "Epoch: 2/10 Iteration: 465 Train loss: 0.247\n",
      "Epoch: 2/10 Iteration: 470 Train loss: 0.243\n",
      "Epoch: 2/10 Iteration: 475 Train loss: 0.213\n",
      "Val acc: 0.568\n",
      "Epoch: 2/10 Iteration: 480 Train loss: 0.213\n",
      "Epoch: 2/10 Iteration: 485 Train loss: 0.240\n",
      "Epoch: 2/10 Iteration: 490 Train loss: 0.218\n",
      "Epoch: 2/10 Iteration: 495 Train loss: 0.236\n",
      "Epoch: 2/10 Iteration: 500 Train loss: 0.209\n",
      "Val acc: 0.658\n",
      "Epoch: 2/10 Iteration: 505 Train loss: 0.208\n",
      "Epoch: 2/10 Iteration: 510 Train loss: 0.138\n",
      "Epoch: 2/10 Iteration: 515 Train loss: 0.105\n",
      "Epoch: 2/10 Iteration: 520 Train loss: 0.089\n",
      "Epoch: 2/10 Iteration: 525 Train loss: 0.109\n",
      "Val acc: 0.786\n",
      "Epoch: 2/10 Iteration: 530 Train loss: 0.145\n",
      "Epoch: 2/10 Iteration: 535 Train loss: 0.081\n",
      "Epoch: 2/10 Iteration: 540 Train loss: 0.103\n",
      "Epoch: 2/10 Iteration: 545 Train loss: 0.089\n",
      "Epoch: 2/10 Iteration: 550 Train loss: 0.056\n",
      "Val acc: 0.504\n",
      "Epoch: 2/10 Iteration: 555 Train loss: 0.081\n",
      "Epoch: 2/10 Iteration: 560 Train loss: 0.082\n",
      "Epoch: 2/10 Iteration: 565 Train loss: 0.035\n",
      "Epoch: 2/10 Iteration: 570 Train loss: 0.083\n",
      "Epoch: 2/10 Iteration: 575 Train loss: 0.032\n",
      "Val acc: 0.507\n",
      "Epoch: 2/10 Iteration: 580 Train loss: 0.017\n",
      "Epoch: 2/10 Iteration: 585 Train loss: 0.009\n",
      "Epoch: 2/10 Iteration: 590 Train loss: 0.004\n",
      "Epoch: 2/10 Iteration: 595 Train loss: 0.025\n",
      "Epoch: 2/10 Iteration: 600 Train loss: 0.004\n",
      "Val acc: 0.500\n",
      "Epoch: 3/10 Iteration: 605 Train loss: 0.147\n",
      "Epoch: 3/10 Iteration: 610 Train loss: 0.100\n",
      "Epoch: 3/10 Iteration: 615 Train loss: 0.087\n",
      "Epoch: 3/10 Iteration: 620 Train loss: 0.063\n",
      "Epoch: 3/10 Iteration: 625 Train loss: 0.083\n",
      "Val acc: 0.679\n",
      "Epoch: 3/10 Iteration: 630 Train loss: 0.061\n",
      "Epoch: 3/10 Iteration: 635 Train loss: 0.095\n",
      "Epoch: 3/10 Iteration: 640 Train loss: 0.052\n",
      "Epoch: 3/10 Iteration: 645 Train loss: 0.038\n",
      "Epoch: 3/10 Iteration: 650 Train loss: 0.042\n",
      "Val acc: 0.675\n",
      "Epoch: 3/10 Iteration: 655 Train loss: 0.041\n",
      "Epoch: 3/10 Iteration: 660 Train loss: 0.021\n",
      "Epoch: 3/10 Iteration: 665 Train loss: 0.035\n",
      "Epoch: 3/10 Iteration: 670 Train loss: 0.033\n",
      "Epoch: 3/10 Iteration: 675 Train loss: 0.034\n",
      "Val acc: 0.696\n",
      "Epoch: 3/10 Iteration: 680 Train loss: 0.033\n",
      "Epoch: 3/10 Iteration: 685 Train loss: 0.029\n",
      "Epoch: 3/10 Iteration: 690 Train loss: 0.037\n",
      "Epoch: 3/10 Iteration: 695 Train loss: 0.032\n",
      "Epoch: 3/10 Iteration: 700 Train loss: 0.036\n",
      "Val acc: 0.785\n",
      "Epoch: 3/10 Iteration: 705 Train loss: 0.019\n",
      "Epoch: 3/10 Iteration: 710 Train loss: 0.025\n",
      "Epoch: 3/10 Iteration: 715 Train loss: 0.031\n",
      "Epoch: 3/10 Iteration: 720 Train loss: 0.021\n",
      "Epoch: 3/10 Iteration: 725 Train loss: 0.014\n",
      "Val acc: 0.729\n",
      "Epoch: 3/10 Iteration: 730 Train loss: 0.013\n",
      "Epoch: 3/10 Iteration: 735 Train loss: 0.018\n",
      "Epoch: 3/10 Iteration: 740 Train loss: 0.021\n",
      "Epoch: 3/10 Iteration: 745 Train loss: 0.076\n",
      "Epoch: 3/10 Iteration: 750 Train loss: 0.020\n",
      "Val acc: 0.540\n",
      "Epoch: 3/10 Iteration: 755 Train loss: 0.017\n",
      "Epoch: 3/10 Iteration: 760 Train loss: 0.018\n",
      "Epoch: 3/10 Iteration: 765 Train loss: 0.014\n",
      "Epoch: 3/10 Iteration: 770 Train loss: 0.015\n",
      "Epoch: 3/10 Iteration: 775 Train loss: 0.009\n",
      "Val acc: 0.526\n",
      "Epoch: 3/10 Iteration: 780 Train loss: 0.009\n",
      "Epoch: 3/10 Iteration: 785 Train loss: 0.001\n",
      "Epoch: 3/10 Iteration: 790 Train loss: 0.011\n",
      "Epoch: 3/10 Iteration: 795 Train loss: 0.013\n",
      "Epoch: 3/10 Iteration: 800 Train loss: 0.020\n",
      "Val acc: 0.539\n",
      "Epoch: 4/10 Iteration: 805 Train loss: 0.356\n",
      "Epoch: 4/10 Iteration: 810 Train loss: 0.236\n",
      "Epoch: 4/10 Iteration: 815 Train loss: 0.217\n",
      "Epoch: 4/10 Iteration: 820 Train loss: 0.178\n",
      "Epoch: 4/10 Iteration: 825 Train loss: 0.153\n",
      "Val acc: 0.657\n",
      "Epoch: 4/10 Iteration: 830 Train loss: 0.119\n",
      "Epoch: 4/10 Iteration: 835 Train loss: 0.142\n",
      "Epoch: 4/10 Iteration: 840 Train loss: 0.139\n",
      "Epoch: 4/10 Iteration: 845 Train loss: 0.107\n",
      "Epoch: 4/10 Iteration: 850 Train loss: 0.114\n",
      "Val acc: 0.730\n",
      "Epoch: 4/10 Iteration: 855 Train loss: 0.176\n",
      "Epoch: 4/10 Iteration: 860 Train loss: 0.076\n"
     ]
    },
    {
     "name": "stdout",
     "output_type": "stream",
     "text": [
      "Epoch: 4/10 Iteration: 865 Train loss: 0.019\n",
      "Epoch: 4/10 Iteration: 870 Train loss: 0.030\n",
      "Epoch: 4/10 Iteration: 875 Train loss: 0.005\n",
      "Val acc: 0.588\n",
      "Epoch: 4/10 Iteration: 880 Train loss: 0.034\n",
      "Epoch: 4/10 Iteration: 885 Train loss: 0.016\n",
      "Epoch: 4/10 Iteration: 890 Train loss: 0.018\n",
      "Epoch: 4/10 Iteration: 895 Train loss: 0.029\n",
      "Epoch: 4/10 Iteration: 900 Train loss: 0.028\n",
      "Val acc: 0.734\n",
      "Epoch: 4/10 Iteration: 905 Train loss: 0.012\n",
      "Epoch: 4/10 Iteration: 910 Train loss: 0.023\n",
      "Epoch: 4/10 Iteration: 915 Train loss: 0.023\n",
      "Epoch: 4/10 Iteration: 920 Train loss: 0.025\n",
      "Epoch: 4/10 Iteration: 925 Train loss: 0.009\n",
      "Val acc: 0.592\n",
      "Epoch: 4/10 Iteration: 930 Train loss: 0.012\n",
      "Epoch: 4/10 Iteration: 935 Train loss: 0.002\n",
      "Epoch: 4/10 Iteration: 940 Train loss: 0.002\n",
      "Epoch: 4/10 Iteration: 945 Train loss: 0.002\n",
      "Epoch: 4/10 Iteration: 950 Train loss: 0.001\n",
      "Val acc: 0.618\n",
      "Epoch: 4/10 Iteration: 955 Train loss: 0.001\n",
      "Epoch: 4/10 Iteration: 960 Train loss: 0.000\n",
      "Epoch: 4/10 Iteration: 965 Train loss: 0.001\n",
      "Epoch: 4/10 Iteration: 970 Train loss: 0.000\n",
      "Epoch: 4/10 Iteration: 975 Train loss: 0.001\n",
      "Val acc: 0.599\n",
      "Epoch: 4/10 Iteration: 980 Train loss: 0.000\n",
      "Epoch: 4/10 Iteration: 985 Train loss: 0.001\n",
      "Epoch: 4/10 Iteration: 990 Train loss: 0.000\n",
      "Epoch: 4/10 Iteration: 995 Train loss: 0.000\n",
      "Epoch: 4/10 Iteration: 1000 Train loss: 0.001\n",
      "Val acc: 0.598\n",
      "Epoch: 5/10 Iteration: 1005 Train loss: 0.120\n",
      "Epoch: 5/10 Iteration: 1010 Train loss: 0.128\n",
      "Epoch: 5/10 Iteration: 1015 Train loss: 0.114\n",
      "Epoch: 5/10 Iteration: 1020 Train loss: 0.087\n",
      "Epoch: 5/10 Iteration: 1025 Train loss: 0.049\n",
      "Val acc: 0.803\n",
      "Epoch: 5/10 Iteration: 1030 Train loss: 0.050\n",
      "Epoch: 5/10 Iteration: 1035 Train loss: 0.089\n",
      "Epoch: 5/10 Iteration: 1040 Train loss: 0.019\n",
      "Epoch: 5/10 Iteration: 1045 Train loss: 0.046\n",
      "Epoch: 5/10 Iteration: 1050 Train loss: 0.071\n",
      "Val acc: 0.792\n",
      "Epoch: 5/10 Iteration: 1055 Train loss: 0.094\n",
      "Epoch: 5/10 Iteration: 1060 Train loss: 0.199\n",
      "Epoch: 5/10 Iteration: 1065 Train loss: 0.097\n",
      "Epoch: 5/10 Iteration: 1070 Train loss: 0.040\n",
      "Epoch: 5/10 Iteration: 1075 Train loss: 0.055\n",
      "Val acc: 0.861\n",
      "Epoch: 5/10 Iteration: 1080 Train loss: 0.061\n",
      "Epoch: 5/10 Iteration: 1085 Train loss: 0.035\n",
      "Epoch: 5/10 Iteration: 1090 Train loss: 0.038\n",
      "Epoch: 5/10 Iteration: 1095 Train loss: 0.018\n",
      "Epoch: 5/10 Iteration: 1100 Train loss: 0.004\n",
      "Val acc: 0.838\n",
      "Epoch: 5/10 Iteration: 1105 Train loss: 0.002\n",
      "Epoch: 5/10 Iteration: 1110 Train loss: 0.003\n",
      "Epoch: 5/10 Iteration: 1115 Train loss: 0.005\n",
      "Epoch: 5/10 Iteration: 1120 Train loss: 0.013\n",
      "Epoch: 5/10 Iteration: 1125 Train loss: 0.002\n",
      "Val acc: 0.766\n",
      "Epoch: 5/10 Iteration: 1130 Train loss: 0.009\n",
      "Epoch: 5/10 Iteration: 1135 Train loss: 0.002\n",
      "Epoch: 5/10 Iteration: 1140 Train loss: 0.004\n",
      "Epoch: 5/10 Iteration: 1145 Train loss: 0.001\n",
      "Epoch: 5/10 Iteration: 1150 Train loss: 0.000\n",
      "Val acc: 0.769\n",
      "Epoch: 5/10 Iteration: 1155 Train loss: 0.000\n",
      "Epoch: 5/10 Iteration: 1160 Train loss: 0.000\n",
      "Epoch: 5/10 Iteration: 1165 Train loss: 0.001\n",
      "Epoch: 5/10 Iteration: 1170 Train loss: 0.001\n",
      "Epoch: 5/10 Iteration: 1175 Train loss: 0.002\n",
      "Val acc: 0.697\n",
      "Epoch: 5/10 Iteration: 1180 Train loss: 0.000\n",
      "Epoch: 5/10 Iteration: 1185 Train loss: 0.000\n",
      "Epoch: 5/10 Iteration: 1190 Train loss: 0.001\n",
      "Epoch: 5/10 Iteration: 1195 Train loss: 0.002\n",
      "Epoch: 5/10 Iteration: 1200 Train loss: 0.000\n",
      "Val acc: 0.679\n",
      "Epoch: 6/10 Iteration: 1205 Train loss: 0.129\n",
      "Epoch: 6/10 Iteration: 1210 Train loss: 0.099\n",
      "Epoch: 6/10 Iteration: 1215 Train loss: 0.146\n",
      "Epoch: 6/10 Iteration: 1220 Train loss: 0.081\n",
      "Epoch: 6/10 Iteration: 1225 Train loss: 0.099\n",
      "Val acc: 0.653\n",
      "Epoch: 6/10 Iteration: 1230 Train loss: 0.067\n",
      "Epoch: 6/10 Iteration: 1235 Train loss: 0.071\n",
      "Epoch: 6/10 Iteration: 1240 Train loss: 0.073\n",
      "Epoch: 6/10 Iteration: 1245 Train loss: 0.171\n",
      "Epoch: 6/10 Iteration: 1250 Train loss: 0.299\n",
      "Val acc: 0.645\n",
      "Epoch: 6/10 Iteration: 1255 Train loss: 0.163\n",
      "Epoch: 6/10 Iteration: 1260 Train loss: 0.113\n",
      "Epoch: 6/10 Iteration: 1265 Train loss: 0.097\n",
      "Epoch: 6/10 Iteration: 1270 Train loss: 0.082\n",
      "Epoch: 6/10 Iteration: 1275 Train loss: 0.088\n",
      "Val acc: 0.730\n",
      "Epoch: 6/10 Iteration: 1280 Train loss: 0.040\n",
      "Epoch: 6/10 Iteration: 1285 Train loss: 0.027\n",
      "Epoch: 6/10 Iteration: 1290 Train loss: 0.037\n",
      "Epoch: 6/10 Iteration: 1295 Train loss: 0.020\n",
      "Epoch: 6/10 Iteration: 1300 Train loss: 0.004\n",
      "Val acc: 0.712\n",
      "Epoch: 6/10 Iteration: 1305 Train loss: 0.008\n",
      "Epoch: 6/10 Iteration: 1310 Train loss: 0.000\n",
      "Epoch: 6/10 Iteration: 1315 Train loss: 0.000\n",
      "Epoch: 6/10 Iteration: 1320 Train loss: 0.001\n",
      "Epoch: 6/10 Iteration: 1325 Train loss: 0.002\n",
      "Val acc: 0.545\n",
      "Epoch: 6/10 Iteration: 1330 Train loss: 0.000\n",
      "Epoch: 6/10 Iteration: 1335 Train loss: 0.000\n",
      "Epoch: 6/10 Iteration: 1340 Train loss: 0.000\n",
      "Epoch: 6/10 Iteration: 1345 Train loss: 0.000\n",
      "Epoch: 6/10 Iteration: 1350 Train loss: 0.001\n",
      "Val acc: 0.546\n",
      "Epoch: 6/10 Iteration: 1355 Train loss: 0.000\n",
      "Epoch: 6/10 Iteration: 1360 Train loss: 0.000\n",
      "Epoch: 6/10 Iteration: 1365 Train loss: 0.000\n",
      "Epoch: 6/10 Iteration: 1370 Train loss: 0.000\n",
      "Epoch: 6/10 Iteration: 1375 Train loss: 0.000\n",
      "Val acc: 0.511\n",
      "Epoch: 6/10 Iteration: 1380 Train loss: 0.001\n",
      "Epoch: 6/10 Iteration: 1385 Train loss: 0.001\n",
      "Epoch: 6/10 Iteration: 1390 Train loss: 0.000\n",
      "Epoch: 6/10 Iteration: 1395 Train loss: 0.001\n",
      "Epoch: 6/10 Iteration: 1400 Train loss: 0.000\n",
      "Val acc: 0.507\n",
      "Epoch: 7/10 Iteration: 1405 Train loss: 0.335\n",
      "Epoch: 7/10 Iteration: 1410 Train loss: 0.468\n",
      "Epoch: 7/10 Iteration: 1415 Train loss: 0.221\n",
      "Epoch: 7/10 Iteration: 1420 Train loss: 0.287\n",
      "Epoch: 7/10 Iteration: 1425 Train loss: 0.275\n",
      "Val acc: 0.562\n",
      "Epoch: 7/10 Iteration: 1430 Train loss: 0.198\n",
      "Epoch: 7/10 Iteration: 1435 Train loss: 0.186\n",
      "Epoch: 7/10 Iteration: 1440 Train loss: 0.160\n",
      "Epoch: 7/10 Iteration: 1445 Train loss: 0.134\n",
      "Epoch: 7/10 Iteration: 1450 Train loss: 0.115\n",
      "Val acc: 0.694\n",
      "Epoch: 7/10 Iteration: 1455 Train loss: 0.124\n",
      "Epoch: 7/10 Iteration: 1460 Train loss: 0.097\n",
      "Epoch: 7/10 Iteration: 1465 Train loss: 0.080\n",
      "Epoch: 7/10 Iteration: 1470 Train loss: 0.034\n",
      "Epoch: 7/10 Iteration: 1475 Train loss: 0.061\n",
      "Val acc: 0.782\n",
      "Epoch: 7/10 Iteration: 1480 Train loss: 0.049\n",
      "Epoch: 7/10 Iteration: 1485 Train loss: 0.064\n",
      "Epoch: 7/10 Iteration: 1490 Train loss: 0.079\n",
      "Epoch: 7/10 Iteration: 1495 Train loss: 0.088\n",
      "Epoch: 7/10 Iteration: 1500 Train loss: 0.099\n",
      "Val acc: 0.715\n",
      "Epoch: 7/10 Iteration: 1505 Train loss: 0.155\n",
      "Epoch: 7/10 Iteration: 1510 Train loss: 0.084\n",
      "Epoch: 7/10 Iteration: 1515 Train loss: 0.081\n",
      "Epoch: 7/10 Iteration: 1520 Train loss: 0.038\n",
      "Epoch: 7/10 Iteration: 1525 Train loss: 0.014\n",
      "Val acc: 0.704\n",
      "Epoch: 7/10 Iteration: 1530 Train loss: 0.057\n",
      "Epoch: 7/10 Iteration: 1535 Train loss: 0.023\n",
      "Epoch: 7/10 Iteration: 1540 Train loss: 0.034\n",
      "Epoch: 7/10 Iteration: 1545 Train loss: 0.041\n",
      "Epoch: 7/10 Iteration: 1550 Train loss: 0.084\n",
      "Val acc: 0.688\n",
      "Epoch: 7/10 Iteration: 1555 Train loss: 0.076\n",
      "Epoch: 7/10 Iteration: 1560 Train loss: 0.050\n",
      "Epoch: 7/10 Iteration: 1565 Train loss: 0.083\n",
      "Epoch: 7/10 Iteration: 1570 Train loss: 0.054\n",
      "Epoch: 7/10 Iteration: 1575 Train loss: 0.033\n",
      "Val acc: 0.626\n",
      "Epoch: 7/10 Iteration: 1580 Train loss: 0.016\n",
      "Epoch: 7/10 Iteration: 1585 Train loss: 0.018\n",
      "Epoch: 7/10 Iteration: 1590 Train loss: 0.026\n",
      "Epoch: 7/10 Iteration: 1595 Train loss: 0.019\n",
      "Epoch: 7/10 Iteration: 1600 Train loss: 0.060\n",
      "Val acc: 0.544\n",
      "Epoch: 8/10 Iteration: 1605 Train loss: 0.156\n",
      "Epoch: 8/10 Iteration: 1610 Train loss: 0.169\n",
      "Epoch: 8/10 Iteration: 1615 Train loss: 0.163\n",
      "Epoch: 8/10 Iteration: 1620 Train loss: 0.049\n",
      "Epoch: 8/10 Iteration: 1625 Train loss: 0.049\n",
      "Val acc: 0.663\n",
      "Epoch: 8/10 Iteration: 1630 Train loss: 0.021\n",
      "Epoch: 8/10 Iteration: 1635 Train loss: 0.022\n",
      "Epoch: 8/10 Iteration: 1640 Train loss: 0.028\n",
      "Epoch: 8/10 Iteration: 1645 Train loss: 0.037\n",
      "Epoch: 8/10 Iteration: 1650 Train loss: 0.034\n",
      "Val acc: 0.543\n",
      "Epoch: 8/10 Iteration: 1655 Train loss: 0.029\n",
      "Epoch: 8/10 Iteration: 1660 Train loss: 0.016\n",
      "Epoch: 8/10 Iteration: 1665 Train loss: 0.029\n",
      "Epoch: 8/10 Iteration: 1670 Train loss: 0.036\n",
      "Epoch: 8/10 Iteration: 1675 Train loss: 0.033\n",
      "Val acc: 0.642\n",
      "Epoch: 8/10 Iteration: 1680 Train loss: 0.019\n",
      "Epoch: 8/10 Iteration: 1685 Train loss: 0.021\n",
      "Epoch: 8/10 Iteration: 1690 Train loss: 0.014\n",
      "Epoch: 8/10 Iteration: 1695 Train loss: 0.060\n",
      "Epoch: 8/10 Iteration: 1700 Train loss: 0.064\n"
     ]
    },
    {
     "name": "stdout",
     "output_type": "stream",
     "text": [
      "Val acc: 0.742\n",
      "Epoch: 8/10 Iteration: 1705 Train loss: 0.035\n",
      "Epoch: 8/10 Iteration: 1710 Train loss: 0.029\n",
      "Epoch: 8/10 Iteration: 1715 Train loss: 0.042\n",
      "Epoch: 8/10 Iteration: 1720 Train loss: 0.019\n",
      "Epoch: 8/10 Iteration: 1725 Train loss: 0.021\n",
      "Val acc: 0.512\n",
      "Epoch: 8/10 Iteration: 1730 Train loss: 0.019\n",
      "Epoch: 8/10 Iteration: 1735 Train loss: 0.074\n",
      "Epoch: 8/10 Iteration: 1740 Train loss: 0.117\n",
      "Epoch: 8/10 Iteration: 1745 Train loss: 0.150\n",
      "Epoch: 8/10 Iteration: 1750 Train loss: 0.105\n",
      "Val acc: 0.696\n",
      "Epoch: 8/10 Iteration: 1755 Train loss: 0.043\n",
      "Epoch: 8/10 Iteration: 1760 Train loss: 0.213\n",
      "Epoch: 8/10 Iteration: 1765 Train loss: 0.147\n",
      "Epoch: 8/10 Iteration: 1770 Train loss: 0.172\n",
      "Epoch: 8/10 Iteration: 1775 Train loss: 0.100\n",
      "Val acc: 0.636\n",
      "Epoch: 8/10 Iteration: 1780 Train loss: 0.100\n",
      "Epoch: 8/10 Iteration: 1785 Train loss: 0.178\n",
      "Epoch: 8/10 Iteration: 1790 Train loss: 0.105\n",
      "Epoch: 8/10 Iteration: 1795 Train loss: 0.093\n",
      "Epoch: 8/10 Iteration: 1800 Train loss: 0.097\n",
      "Val acc: 0.608\n",
      "Epoch: 9/10 Iteration: 1805 Train loss: 0.197\n",
      "Epoch: 9/10 Iteration: 1810 Train loss: 0.092\n",
      "Epoch: 9/10 Iteration: 1815 Train loss: 0.093\n",
      "Epoch: 9/10 Iteration: 1820 Train loss: 0.071\n",
      "Epoch: 9/10 Iteration: 1825 Train loss: 0.069\n",
      "Val acc: 0.759\n",
      "Epoch: 9/10 Iteration: 1830 Train loss: 0.012\n",
      "Epoch: 9/10 Iteration: 1835 Train loss: 0.074\n",
      "Epoch: 9/10 Iteration: 1840 Train loss: 0.025\n",
      "Epoch: 9/10 Iteration: 1845 Train loss: 0.043\n",
      "Epoch: 9/10 Iteration: 1850 Train loss: 0.056\n",
      "Val acc: 0.798\n",
      "Epoch: 9/10 Iteration: 1855 Train loss: 0.077\n",
      "Epoch: 9/10 Iteration: 1860 Train loss: 0.041\n",
      "Epoch: 9/10 Iteration: 1865 Train loss: 0.047\n",
      "Epoch: 9/10 Iteration: 1870 Train loss: 0.030\n",
      "Epoch: 9/10 Iteration: 1875 Train loss: 0.026\n",
      "Val acc: 0.860\n",
      "Epoch: 9/10 Iteration: 1880 Train loss: 0.027\n",
      "Epoch: 9/10 Iteration: 1885 Train loss: 0.010\n",
      "Epoch: 9/10 Iteration: 1890 Train loss: 0.013\n",
      "Epoch: 9/10 Iteration: 1895 Train loss: 0.028\n",
      "Epoch: 9/10 Iteration: 1900 Train loss: 0.020\n",
      "Val acc: 0.878\n",
      "Epoch: 9/10 Iteration: 1905 Train loss: 0.014\n",
      "Epoch: 9/10 Iteration: 1910 Train loss: 0.009\n",
      "Epoch: 9/10 Iteration: 1915 Train loss: 0.001\n",
      "Epoch: 9/10 Iteration: 1920 Train loss: 0.008\n",
      "Epoch: 9/10 Iteration: 1925 Train loss: 0.003\n",
      "Val acc: 0.733\n",
      "Epoch: 9/10 Iteration: 1930 Train loss: 0.001\n",
      "Epoch: 9/10 Iteration: 1935 Train loss: 0.001\n",
      "Epoch: 9/10 Iteration: 1940 Train loss: 0.004\n",
      "Epoch: 9/10 Iteration: 1945 Train loss: 0.010\n",
      "Epoch: 9/10 Iteration: 1950 Train loss: 0.001\n",
      "Val acc: 0.848\n",
      "Epoch: 9/10 Iteration: 1955 Train loss: 0.001\n",
      "Epoch: 9/10 Iteration: 1960 Train loss: 0.011\n",
      "Epoch: 9/10 Iteration: 1965 Train loss: 0.001\n",
      "Epoch: 9/10 Iteration: 1970 Train loss: 0.000\n",
      "Epoch: 9/10 Iteration: 1975 Train loss: 0.000\n",
      "Val acc: 0.748\n",
      "Epoch: 9/10 Iteration: 1980 Train loss: 0.000\n",
      "Epoch: 9/10 Iteration: 1985 Train loss: 0.002\n",
      "Epoch: 9/10 Iteration: 1990 Train loss: 0.001\n",
      "Epoch: 9/10 Iteration: 1995 Train loss: 0.000\n",
      "Epoch: 9/10 Iteration: 2000 Train loss: 0.000\n",
      "Val acc: 0.613\n",
      "CPU times: user 30min 45s, sys: 7min 23s, total: 38min 8s\n",
      "Wall time: 1h 34min 18s\n"
     ]
    }
   ],
   "source": [
    "%%time\n",
    "epochs = 10\n",
    "\n",
    "# with graph.as_default():\n",
    "saver = tf.train.Saver()\n",
    "\n",
    "with tf.Session() as sess:\n",
    "    sess.run(tf.global_variables_initializer())\n",
    "    train_writer = tf.summary.FileWriter('./logs/tb/train', sess.graph)\n",
    "    test_writer = tf.summary.FileWriter('./logs/tb/test', sess.graph)\n",
    "    iteration = 1\n",
    "    for e in range(epochs):\n",
    "        state = sess.run(initial_state)\n",
    "        for ii, (x, y) in enumerate(get_batches(train_x, train_y, batch_size), 1):\n",
    "            feed = {inputs_: x,\n",
    "                    labels_: y[:, None],\n",
    "                    keep_prob: 0.5,\n",
    "                    initial_state: state}\n",
    "            summary, loss, state, _ = sess.run([merged, cost, final_state, optimizer], feed_dict=feed)\n",
    "            #loss, state, _ = sess.run([cost, final_state, optimizer], feed_dict=feed)\n",
    "            train_writer.add_summary(summary, iteration)\n",
    "            if iteration%5==0:\n",
    "                print(\"Epoch: {}/{}\".format(e, epochs),\n",
    "                      \"Iteration: {}\".format(iteration),\n",
    "                      \"Train loss: {:.3f}\".format(loss))\n",
    "    \n",
    "            if iteration%25==0:\n",
    "                val_acc = []\n",
    "                val_state = sess.run(cell.zero_state(batch_size, tf.float32))\n",
    "                for x, y in get_batches(val_x, val_y, batch_size):\n",
    "                    feed = {inputs_: x,\n",
    "                            labels_: y[:, None],\n",
    "                            keep_prob: 1,\n",
    "                            initial_state: val_state}\n",
    "                    #batch_acc, val_state = sess.run([accuracy, final_state], feed_dict=feed)\n",
    "                    summary, batch_acc, val_state = sess.run([merged, accuracy, final_state], feed_dict=feed)\n",
    "                    val_acc.append(batch_acc)\n",
    "                print(\"Val acc: {:.3f}\".format(np.mean(val_acc)))\n",
    "            iteration +=1\n",
    "            test_writer.add_summary(summary, iteration)\n",
    "            saver.save(sess, \"checkpoints/sentiment_manish.ckpt\")\n",
    "    saver.save(sess, \"checkpoints/sentiment_manish.ckpt\")"
   ]
  },
  {
   "cell_type": "markdown",
   "metadata": {},
   "source": [
    "test"
   ]
  },
  {
   "cell_type": "code",
   "execution_count": 52,
   "metadata": {},
   "outputs": [
    {
     "name": "stdout",
     "output_type": "stream",
     "text": [
      "INFO:tensorflow:Restoring parameters from checkpoints/sentiment_manish.ckpt\n",
      "Test accuracy: 0.558\n"
     ]
    }
   ],
   "source": [
    "\n",
    "\n",
    "test_acc = []\n",
    "with tf.Session() as sess:\n",
    "    saver.restore(sess, \"checkpoints/sentiment_manish.ckpt\")\n",
    "    test_state = sess.run(cell.zero_state(batch_size, tf.float32))\n",
    "    for ii, (x, y) in enumerate(get_batches(test_x, test_y, batch_size), 1):\n",
    "        feed = {inputs_: x,\n",
    "                labels_: y[:, None],\n",
    "                keep_prob: 1,\n",
    "                initial_state: test_state}\n",
    "        batch_acc, test_state = sess.run([accuracy, final_state], feed_dict=feed)\n",
    "        test_acc.append(batch_acc)\n",
    "    print(\"Test accuracy: {:.3f}\".format(np.mean(test_acc)))\n",
    "\n"
   ]
  },
  {
   "cell_type": "code",
   "execution_count": null,
   "metadata": {},
   "outputs": [],
   "source": []
  }
 ],
 "metadata": {
  "kernelspec": {
   "display_name": "Python 3",
   "language": "python",
   "name": "python3"
  },
  "language_info": {
   "codemirror_mode": {
    "name": "ipython",
    "version": 3
   },
   "file_extension": ".py",
   "mimetype": "text/x-python",
   "name": "python",
   "nbconvert_exporter": "python",
   "pygments_lexer": "ipython3",
   "version": "3.6.7"
  }
 },
 "nbformat": 4,
 "nbformat_minor": 2
}
